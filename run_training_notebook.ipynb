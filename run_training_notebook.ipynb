{
  "cells": [
    {
      "cell_type": "code",
      "execution_count": null,
      "metadata": {
        "id": "OnkeufHah8T8"
      },
      "outputs": [],
      "source": [
        "from google.colab import drive\n",
        "drive.mount('/content/drive')"
      ]
    },
    {
      "cell_type": "markdown",
      "metadata": {
        "id": "NFdCSBqjlasC"
      },
      "source": [
        "## DTLN Model Training"
      ]
    },
    {
      "cell_type": "code",
      "execution_count": null,
      "metadata": {
        "id": "Y7mIPuin_tmt"
      },
      "outputs": [],
      "source": [
        "%cd /content\n",
        "!git clone https://github.com/WujuMaster/DTLN.git"
      ]
    },
    {
      "cell_type": "code",
      "execution_count": null,
      "metadata": {
        "id": "R_PvdH8xGc9w"
      },
      "outputs": [],
      "source": [
        "!pip install wavinfo"
      ]
    },
    {
      "cell_type": "code",
      "execution_count": null,
      "metadata": {
        "id": "fj7A8jQUzzm1"
      },
      "outputs": [],
      "source": [
        "!unrar x -o+ \"./data/DTLN/8khz/training_set.part1.rar\" \"/content/\"\n",
        "!unrar x -o+ \"./data/DTLN/8khz/training_set.part2.rar\" \"/content/\"\n",
        "!unrar x -o+ \"./data/DTLN/8khz/training_set.part3.rar\" \"/content/\""
      ]
    },
    {
      "cell_type": "code",
      "execution_count": null,
      "metadata": {
        "id": "NcknMLGePGhS"
      },
      "outputs": [],
      "source": [
        "!du -sh /content/training_set "
      ]
    },
    {
      "cell_type": "code",
      "execution_count": null,
      "metadata": {
        "id": "xOm0HDcoFAA7"
      },
      "outputs": [],
      "source": [
        "%cd /content/DTLN\n",
        "!python run_training.py"
      ]
    },
    {
      "cell_type": "code",
      "execution_count": null,
      "metadata": {
        "id": "w0FYlRK5QwRS"
      },
      "outputs": [],
      "source": [
        "%cd /content/DTLN\n",
        "!python run_evaluation.py -i /content/data -o /content/output -m ./pretrained_model/DTLN_model.h5"
      ]
    },
    {
      "cell_type": "markdown",
      "metadata": {
        "id": "TvGK4xF0d2Fg"
      },
      "source": [
        "# Model testing"
      ]
    },
    {
      "cell_type": "code",
      "execution_count": null,
      "metadata": {
        "id": "06m1ORubjaUo"
      },
      "outputs": [],
      "source": [
        "%cd /content\n",
        "!git clone https://github.com/WujuMaster/DTLN.git"
      ]
    },
    {
      "cell_type": "code",
      "execution_count": null,
      "metadata": {
        "id": "wMBl9jwYdx5F"
      },
      "outputs": [],
      "source": [
        "!pip install wavinfo\n",
        "# !pip install tensorflow==2.3"
      ]
    },
    {
      "cell_type": "code",
      "execution_count": null,
      "metadata": {
        "id": "Ha92HiyrheCd"
      },
      "outputs": [],
      "source": [
        "%cd /content/DTLN\n",
        "!python convert_weights_to_saved_model.py -m /content/DTLN/pretrained_model/DTLN_model.h5 -t /content/drive/MyDrive/GGColab/Save/DTLN/SavedModel_16khz/"
      ]
    },
    {
      "cell_type": "code",
      "execution_count": null,
      "metadata": {
        "id": "jBJdOPeBe6dO"
      },
      "outputs": [],
      "source": [
        "%cd /content/DTLN/\n",
        "!python convert_weights_to_onnx.py -m ./pretrained_model/DTLN_model_233epoch.h5 -t /content/drive/MyDrive/GGColab/Save/DTLN/Onnx/my_model"
      ]
    },
    {
      "cell_type": "code",
      "execution_count": null,
      "metadata": {
        "id": "mp5Dsb1BgCIg"
      },
      "outputs": [],
      "source": [
        "%cd /content/DTLN/\n",
        "!python convert_weights_to_tf_lite.py -q True -m ./pretrained_model/DTLN_model.h5 -t ./pretrained_model/DTLN_8khz_model"
      ]
    },
    {
      "cell_type": "code",
      "execution_count": null,
      "metadata": {
        "id": "anVdqZQWW8u4"
      },
      "outputs": [],
      "source": [
        "!cp /content/DTLN/my_model_1.tflite /content/drive/MyDrive/GGColab/Save/DTLN/tf-lite\n",
        "!cp /content/DTLN/my_model_2.tflite /content/drive/MyDrive/GGColab/Save/DTLN/tf-lite"
      ]
    },
    {
      "cell_type": "code",
      "execution_count": null,
      "metadata": {
        "id": "tpJqLxpfLdjL"
      },
      "outputs": [],
      "source": [
        "!apt-get install rar"
      ]
    },
    {
      "cell_type": "code",
      "execution_count": null,
      "metadata": {
        "id": "LxxmP7J2XbRt"
      },
      "outputs": [],
      "source": [
        "!rar a '/content/drive/MyDrive/GGColab/Save/DTLN/dtln_saved_model' '/content/DTLN/pretrained_model/dtln_saved_model'"
      ]
    },
    {
      "cell_type": "code",
      "execution_count": null,
      "metadata": {
        "id": "Y2Wxr1boLbgM"
      },
      "outputs": [],
      "source": [
        "!rar a '/content/drive/MyDrive/GGColab/Save/DTLN/DTLN_norm_500h_saved_model' '/content/DTLN/pretrained_model/DTLN_norm_500h_saved_model'"
      ]
    },
    {
      "cell_type": "markdown",
      "metadata": {
        "id": "h4t40W4OB2AS"
      },
      "source": [
        "## TFJS conversion"
      ]
    },
    {
      "cell_type": "code",
      "execution_count": null,
      "metadata": {
        "id": "kafSKevOB7M5"
      },
      "outputs": [],
      "source": [
        "%cd /content\n",
        "!git clone https://github.com/WujuMaster/DTLN.git"
      ]
    },
    {
      "cell_type": "code",
      "execution_count": null,
      "metadata": {
        "id": "cIeLUlPQB9qb"
      },
      "outputs": [],
      "source": [
        "!pip install wavinfo\n",
        "!pip install tensorflow==2.3\n",
        "!pip install tensorflowjs==2.3.0"
      ]
    },
    {
      "cell_type": "code",
      "execution_count": null,
      "metadata": {
        "id": "pG7hNd4FPORj"
      },
      "outputs": [],
      "source": [
        "!pip show tensorflowjs"
      ]
    },
    {
      "cell_type": "code",
      "execution_count": null,
      "metadata": {
        "colab": {
          "base_uri": "https://localhost:8080/"
        },
        "id": "yerwde6PDO52",
        "outputId": "17a901e8-90ff-4640-db88-9b8fd00828f3"
      },
      "outputs": [
        {
          "name": "stdout",
          "output_type": "stream",
          "text": [
            "/content/DTLN\n"
          ]
        }
      ],
      "source": [
        "%cd /content/DTLN"
      ]
    },
    {
      "cell_type": "code",
      "execution_count": null,
      "metadata": {
        "id": "5gE3i5G9WL1s"
      },
      "outputs": [],
      "source": [
        "import tensorflowjs as tfjs\n",
        "import tensorflow as tf\n",
        "\n",
        "tf.keras.backend.set_learning_phase(0)\n",
        "tfjs.converters._enable_tflite_resource_variables = True\n",
        "\n",
        "!tensorflowjs_converter --input_format=tf_saved_model \\\n",
        "                         --output_node_names='test_model' \\\n",
        "                         --saved_model_tags=serve \\\n",
        "                         /content/drive/MyDrive/GGColab/Save/DTLN/SavedModel/ \\\n",
        "                         /content/drive/MyDrive/GGColab/Save/DTLN/"
      ]
    },
    {
      "cell_type": "code",
      "execution_count": null,
      "metadata": {
        "id": "CAhuMS4UB1yD"
      },
      "outputs": [],
      "source": [
        "import tensorflowjs as tfjs\n",
        "from DTLN_model import DTLN_model\n",
        "\n",
        "model_class = DTLN_model()\n",
        "model_class.build_DTLN_model_stateful()\n",
        "model_class.model.load_weights('./pretrained_model/DTLN_model.h5')\n",
        "tfjs.converters.save_keras_model(model_class.model, 'DTLN_js')"
      ]
    },
    {
      "cell_type": "code",
      "source": [],
      "metadata": {
        "id": "PTLT0uo1HKTX"
      },
      "execution_count": null,
      "outputs": []
    }
  ],
  "metadata": {
    "colab": {
      "machine_shape": "hm",
      "provenance": []
    },
    "gpuClass": "premium",
    "kernelspec": {
      "display_name": "Python 3",
      "name": "python3"
    },
    "language_info": {
      "name": "python"
    }
  },
  "nbformat": 4,
  "nbformat_minor": 0
}